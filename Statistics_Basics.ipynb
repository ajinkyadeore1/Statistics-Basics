{
  "nbformat": 4,
  "nbformat_minor": 0,
  "metadata": {
    "colab": {
      "provenance": []
    },
    "kernelspec": {
      "name": "python3",
      "display_name": "Python 3"
    },
    "language_info": {
      "name": "python"
    }
  },
  "cells": [
    {
      "cell_type": "markdown",
      "source": [
        "# Statistics Basics\n",
        "\n",
        "1. What is statistics, and why is it important?\n",
        "--> Statistics is the branch of mathematics that involves collecting, analyzing, interpreting, and presenting data. It is important because it helps make informed decisions and uncover patterns or trends in data.\n",
        "\n",
        "2. What are the two main types of statistics?\n",
        "--> Descriptive Statistics summarizes and organizes data to describe its main features (e.g., mean, median, standard deviation).\n",
        "\n",
        "Inferential Statistics uses sample data to make predictions or inferences about a population, using techniques like hypothesis testing and regression.\n",
        "\n",
        "3.  What are descriptive statistics?\n",
        "--> Descriptive statistics summarize and organize data to provide insights into its main features. It includes measures like mean, median, mode, and standard deviation, as well as visualizations like histograms and bar charts.\n",
        "\n",
        "4. What is inferential statistics?\n",
        "--> Inferential statistics uses sample data to make predictions or generalizations about a larger population. It involves techniques like hypothesis testing, confidence intervals, and regression analysis.\n",
        "\n",
        "5. What is sampling in statistics?\n",
        "--> Sampling in statistics is the process of selecting a subset of individuals or items from a larger population to make inferences about the entire population. It helps in drawing conclusions without needing to collect data from every member of the population.\n",
        "\n",
        "6. What are the different types of sampling methods?\n",
        "--> The main types of sampling methods are:\n",
        "\n",
        "Random Sampling: Every individual in the population has an equal chance of being selected.\n",
        "\n",
        "Stratified Sampling: The population is divided into subgroups (strata), and samples are taken from each subgroup.\n",
        "\n",
        "Systematic Sampling: Every nth individual is selected from a list after choosing a random starting point.\n",
        "\n",
        "Cluster Sampling: The population is divided into clusters, and some clusters are randomly selected for sampling.\n",
        "\n",
        "Convenience Sampling: Samples are chosen based on ease of access or availability.\n",
        "\n",
        "Quota Sampling: The researcher ensures specific subgroups are represented in the sample by setting quotas for each subgroup.\n",
        "\n",
        "7. What is the difference between random and non-random sampling?\n",
        "--> Random Sampling: Every individual in the population has an equal chance of being selected, ensuring unbiased representation.\n",
        "\n",
        "Non-Random Sampling: Selection is based on specific criteria, convenience, or judgment, leading to potential bias and less generalizability.\n",
        "\n",
        "8. Define and give examples of qualitative and quantitative data.\n",
        "--> Qualitative Data: Data that describes qualities or characteristics, typically non-numeric.\n",
        "Example: Colors of cars, types of fruits, or customer feedback.\n",
        "\n",
        "Quantitative Data: Data that represents numerical values and can be measured or counted.\n",
        "Example: Height of individuals, temperature, or number of items sold.\n",
        "\n",
        "9. What are the different types of data in statistics?\n",
        "--> The different types of data in statistics are:\n",
        "\n",
        "Nominal Data: Categorical data without any order or ranking (e.g., gender, nationality).\n",
        "\n",
        "Ordinal Data: Categorical data with a meaningful order but no fixed distance between categories (e.g., rankings, education levels).\n",
        "\n",
        "Interval Data: Numeric data with equal intervals between values, but no true zero point (e.g., temperature in Celsius).\n",
        "\n",
        "Ratio Data: Numeric data with equal intervals and a true zero point (e.g., height, weight, income).\n",
        "\n",
        "10. Explain nominal, ordinal, interval, and ratio levels of measurement.\n",
        "--> Nominal: Data that consists of categories without any order or ranking (e.g., gender, colors, or types of animals).\n",
        "\n",
        "Ordinal: Data with a meaningful order, but the intervals between the categories are not uniform (e.g., rankings, education levels).\n",
        "\n",
        "Interval: Numeric data with equal intervals between values, but no true zero point (e.g., temperature in Celsius or Fahrenheit).\n",
        "\n",
        "Ratio: Numeric data with equal intervals and a true zero point, allowing for comparisons of ratios (e.g., weight, height, age).\n",
        "\n",
        "11.  What is the measure of central tendency?\n",
        "--> The measure of central tendency refers to statistical measures that describe the center or typical value of a dataset. The main measures are:\n",
        "\n",
        "Mean: The average of all data points.\n",
        "\n",
        "Median: The middle value when data is ordered.\n",
        "\n",
        "Mode: The most frequent value in the dataset.\n",
        "\n",
        "12.  Define mean, median, and mode.\n",
        "--> Mean: The sum of all data values divided by the number of values. It represents the average.\n",
        "\n",
        "Median: The middle value when data is arranged in ascending or descending order. If there’s an even number of values, it’s the average of the two middle values.\n",
        "\n",
        "Mode: The value that appears most frequently in a dataset.\n",
        "\n",
        "13. What is the significance of the measure of central tendency?\n",
        "--> The measure of central tendency helps summarize a dataset by identifying a central or typical value, making it easier to understand and compare data. It provides a quick overview of the data's general trend, aiding in decision-making and analysis.\n",
        "\n",
        "14. What is variance, and how is it calculated?\n",
        "--> Variance is a measure of how much the values in a dataset differ from the mean. It quantifies the spread or dispersion of data points.\n",
        "\n",
        "Calculation of Variance:\n",
        "Find the mean of the dataset.\n",
        "\n",
        "Subtract the mean from each data point and square the result.\n",
        "\n",
        "Calculate the average of these squared differences.\n",
        "\n",
        "15. What is standard deviation, and why is it important?\n",
        "--> Standard deviation is a measure of the spread or dispersion of data points in a dataset. It indicates how much the data points deviate from the mean on average.\n",
        "\n",
        "Importance:\n",
        "It helps understand the variability or consistency of data.\n",
        "\n",
        "A low standard deviation means the data points are close to the mean, while a high standard deviation indicates more spread out values.\n",
        "\n",
        "It's crucial for assessing risk, making predictions, and comparing datasets with different units or scales.\n",
        "\n",
        "16. Define and explain the term range in statistics.\n",
        "--> Range in statistics is the difference between the highest and lowest values in a dataset. It provides a measure of the spread or dispersion of the data.\n",
        "\n",
        "Formula:\n",
        "\n",
        "Range = Maaximum Value - Minimum Value\n",
        "\n",
        "It gives a quick sense of how widely the data points vary, though it’s sensitive to outliers.\n",
        "\n",
        "17. What is the difference between variance and standard deviation?\n",
        "--> The variance is the average of the squared differences from the mean, while the standard deviation is the square root of the variance.\n",
        "\n",
        "Key Difference:\n",
        "Variance gives a measure of the spread in squared units, making it harder to interpret directly in the context of the original data.\n",
        "\n",
        "Standard deviation brings the spread back to the original units of the data, making it more interpretable and useful for comparison.\n",
        "\n",
        "18. What is skewness in a dataset?\n",
        "--> Skewness refers to the asymmetry or distortion in the distribution of data. It measures the extent to which data deviates from a normal distribution.\n",
        "\n",
        "Positive skew (right-skewed): The right tail (larger values) is longer, and most data points are on the left.\n",
        "\n",
        "Negative skew (left-skewed): The left tail (smaller values) is longer, and most data points are on the right.\n",
        "\n",
        "Zero skew: The data is symmetrically distributed (normal distribution).\n",
        "\n",
        "19.  What does it mean if a dataset is positively or negatively skewed?\n",
        "--> Positively Skewed (Right Skewed): The right tail of the distribution is longer, meaning there are more smaller values and a few larger values. The mean is greater than the median.\n",
        "\n",
        "Negatively Skewed (Left Skewed): The left tail of the distribution is longer, meaning there are more larger values and a few smaller values. The mean is less than the median.\n",
        "\n",
        "20. Define and explain kurtosis.\n",
        "--> Kurtosis is a statistical measure that describes the shape of a dataset's distribution, particularly the \"tailedness\" or how extreme the outliers are. It indicates whether data points are more or less concentrated around the mean compared to a normal distribution.\n",
        "\n",
        "Types of Kurtosis:\n",
        "Leptokurtic: Higher peak and heavier tails than a normal distribution (more outliers).\n",
        "\n",
        "Mesokurtic: Similar to a normal distribution (normal kurtosis).\n",
        "\n",
        "Platykurtic: Flatter peak and lighter tails than a normal distribution (fewer outliers).\n",
        "\n",
        "Kurtosis helps in understanding the risk of extreme outcomes in a dataset.\n",
        "\n",
        "21. What is the purpose of covariance?\n",
        "--> Covariance measures the relationship between two variables and indicates whether they change together. It shows if an increase in one variable is associated with an increase or decrease in another variable.\n",
        "\n",
        "Positive covariance: Both variables increase or decrease together.\n",
        "\n",
        "Negative covariance: One variable increases while the other decreases.\n",
        "\n",
        "Zero covariance: No linear relationship between the variables.\n",
        "\n",
        "Covariance is useful for understanding the direction of the relationship but does not provide the strength of the relationship, which is given by correlation.\n",
        "\n",
        "22. What does correlation measure in statistics?\n",
        "--> Correlation measures the strength and direction of the linear relationship between two variables. It indicates how closely the variables move together.\n",
        "\n",
        "Positive correlation: As one variable increases, the other also increases.\n",
        "\n",
        "Negative correlation: As one variable increases, the other decreases.\n",
        "\n",
        "No correlation: No predictable relationship between the variables.\n",
        "\n",
        "The correlation coefficient ranges from -1 to +1, where:\n",
        "\n",
        "+1 indicates a perfect positive linear relationship,\n",
        "\n",
        "-1 indicates a perfect negative linear relationship,\n",
        "\n",
        "0 indicates no linear relationship.\n",
        "\n",
        "23. What is the difference between covariance and correlation?\n",
        "--> Covariance and correlation both measure the relationship between two variables, but they differ in interpretation:\n",
        "\n",
        "Covariance: Measures the direction of the relationship between variables (positive or negative) but does not provide a standardized measure. Its value depends on the scale of the variables, making it difficult to compare across different datasets.\n",
        "\n",
        "Correlation: Measures both the strength and direction of the relationship between variables. It standardizes the covariance, making the value fall between -1 and +1, and is scale-independent, allowing for easier comparison across different datasets.\n",
        "\n",
        "24. What are some real-world applications of statistics?\n",
        "--> Statistics has numerous real-world applications, including:\n",
        "\n",
        "Healthcare: Analyzing patient data to identify trends, effectiveness of treatments, and predict outcomes.\n",
        "\n",
        "Business: Market research, customer behavior analysis, sales forecasting, and quality control.\n",
        "\n",
        "Sports: Performance analysis, player statistics, and strategy optimization.\n",
        "\n",
        "Finance: Risk assessment, investment analysis, and portfolio management.\n",
        "\n",
        "Government: Policy decisions, demographic studies, and public opinion surveys.\n",
        "\n",
        "Education: Assessing student performance, school rankings, and learning outcomes.\n",
        "\n",
        "Social Sciences: Studying behavior, social trends, and making inferences about populations based on samples.\n",
        "\n"
      ],
      "metadata": {
        "id": "RH3Nb94Apteq"
      }
    },
    {
      "cell_type": "markdown",
      "source": [
        "# Practical\n"
      ],
      "metadata": {
        "id": "teucUOhF40_i"
      }
    },
    {
      "cell_type": "code",
      "source": [
        "#1.How do you calculate the mean, median, and mode of a dataset?\n",
        "\n",
        "import statistics\n",
        "\n",
        "# Sample dataset\n",
        "data = [2, 4, 6, 8, 10]\n",
        "\n",
        "# Calculate mean\n",
        "mean = sum(data) / len(data)\n",
        "\n",
        "# Calculate median\n",
        "median = statistics.median(data)\n",
        "\n",
        "# Calculate mode\n",
        "try:\n",
        "    mode = statistics.mode(data)\n",
        "except statistics.StatisticsError:\n",
        "    mode = \"No mode (all values are unique)\"\n",
        "\n",
        "# Print results\n",
        "print(f\"Mean: {mean}\")\n",
        "print(f\"Median: {median}\")\n",
        "print(f\"Mode: {mode}\")\n"
      ],
      "metadata": {
        "colab": {
          "base_uri": "https://localhost:8080/"
        },
        "id": "0okqomej48fD",
        "outputId": "1d161a94-6705-438a-85f2-bf207f10bacc"
      },
      "execution_count": 2,
      "outputs": [
        {
          "output_type": "stream",
          "name": "stdout",
          "text": [
            "Mean: 6.0\n",
            "Median: 6\n",
            "Mode: 2\n"
          ]
        }
      ]
    },
    {
      "cell_type": "code",
      "source": [
        "#2. Write a Python program to compute the variance and standard deviation of a dataset.\n",
        "import math\n",
        "\n",
        "# Sample dataset\n",
        "data = [2, 4, 6, 8, 10]\n",
        "\n",
        "# Calculate the mean\n",
        "mean = sum(data) / len(data)\n",
        "\n",
        "# Calculate the variance\n",
        "variance = sum((x - mean) ** 2 for x in data) / len(data)\n",
        "\n",
        "# Calculate the standard deviation\n",
        "std_deviation = math.sqrt(variance)\n",
        "\n",
        "# Print the results\n",
        "print(f\"Variance: {variance}\")\n",
        "print(f\"Standard Deviation: {std_deviation}\")\n"
      ],
      "metadata": {
        "colab": {
          "base_uri": "https://localhost:8080/"
        },
        "id": "IsaF5HDc6nun",
        "outputId": "6bf61950-0df5-483b-fdb5-fe3ed8f1da9e"
      },
      "execution_count": 3,
      "outputs": [
        {
          "output_type": "stream",
          "name": "stdout",
          "text": [
            "Variance: 8.0\n",
            "Standard Deviation: 2.8284271247461903\n"
          ]
        }
      ]
    },
    {
      "cell_type": "code",
      "source": [
        "#3. Create a dataset and classify it into nominal, ordinal, interval, and ratio types.\n",
        "\n",
        "# Dataset creation\n",
        "nominal_data = ['Red', 'Blue', 'Green', 'Yellow']  # Colors (Nominal)\n",
        "ordinal_data = ['Beginner', 'Intermediate', 'Advanced']  # Skill Levels (Ordinal)\n",
        "interval_data = [25, 30, 35, 40, 45]  # Temperature in Celsius (Interval)\n",
        "ratio_data = [50, 60, 70, 80, 90]  # Weight in kilograms (Ratio)\n",
        "\n",
        "# Display Dataset and Classification\n",
        "print(\"Dataset:\")\n",
        "print(\"Nominal Data (No order):\", nominal_data)\n",
        "print(\"Ordinal Data (Ordered but differences are not uniform):\", ordinal_data)\n",
        "print(\"Interval Data (Ordered with meaningful intervals but no true zero):\", interval_data)\n",
        "print(\"Ratio Data (Ordered with meaningful intervals and true zero):\", ratio_data)\n",
        "\n",
        "# Explanation of types\n",
        "print(\"\\nClassification of Data Types:\")\n",
        "print(\"1. Nominal: Categories without any inherent order or ranking.\")\n",
        "print(\"2. Ordinal: Data with a specific order or ranking, but the differences between values are not meaningful.\")\n",
        "print(\"3. Interval: Data with meaningful intervals but no true zero point.\")\n",
        "print(\"4. Ratio: Data with meaningful intervals and a true zero point, allowing for meaningful ratios between values.\")\n"
      ],
      "metadata": {
        "colab": {
          "base_uri": "https://localhost:8080/"
        },
        "id": "mnOp6pbB6xEZ",
        "outputId": "aed4dda1-5c14-453b-81ad-79104facebe4"
      },
      "execution_count": 4,
      "outputs": [
        {
          "output_type": "stream",
          "name": "stdout",
          "text": [
            "Dataset:\n",
            "Nominal Data (No order): ['Red', 'Blue', 'Green', 'Yellow']\n",
            "Ordinal Data (Ordered but differences are not uniform): ['Beginner', 'Intermediate', 'Advanced']\n",
            "Interval Data (Ordered with meaningful intervals but no true zero): [25, 30, 35, 40, 45]\n",
            "Ratio Data (Ordered with meaningful intervals and true zero): [50, 60, 70, 80, 90]\n",
            "\n",
            "Classification of Data Types:\n",
            "1. Nominal: Categories without any inherent order or ranking.\n",
            "2. Ordinal: Data with a specific order or ranking, but the differences between values are not meaningful.\n",
            "3. Interval: Data with meaningful intervals but no true zero point.\n",
            "4. Ratio: Data with meaningful intervals and a true zero point, allowing for meaningful ratios between values.\n"
          ]
        }
      ]
    },
    {
      "cell_type": "code",
      "source": [
        "#4. Implement sampling techniques like random sampling and stratified sampling.\n",
        "\n",
        "import random\n",
        "import pandas as pd\n",
        "\n",
        "# Sample dataset: List of tuples (ID, Age, Gender, Income)\n",
        "data = [\n",
        "    (1, 23, 'Male', 50000),\n",
        "    (2, 25, 'Female', 55000),\n",
        "    (3, 30, 'Male', 60000),\n",
        "    (4, 35, 'Female', 65000),\n",
        "    (5, 40, 'Male', 70000),\n",
        "    (6, 45, 'Female', 75000),\n",
        "    (7, 50, 'Male', 80000),\n",
        "    (8, 55, 'Female', 85000),\n",
        "    (9, 60, 'Male', 90000),\n",
        "    (10, 65, 'Female', 95000)\n",
        "]\n",
        "\n",
        "# Convert to DataFrame for Stratified Sampling\n",
        "df = pd.DataFrame(data, columns=['ID', 'Age', 'Gender', 'Income'])\n",
        "\n",
        "# -----------------------------\n",
        "# 1. Random Sampling (without replacement)\n",
        "random_sample_size = 4\n",
        "random_sample = random.sample(data, random_sample_size)\n",
        "\n",
        "print(\"Random Sampling Result:\")\n",
        "for record in random_sample:\n",
        "    print(record)\n",
        "\n",
        "# -----------------------------\n",
        "# 2. Stratified Sampling (based on 'Gender' for this example)\n",
        "# Create strata based on 'Gender' and take a random sample from each stratum\n",
        "stratified_sample_size = 2  # Number of samples to take from each stratum\n",
        "\n",
        "# Separate the data by 'Gender' and perform sampling on each group\n",
        "strata = df.groupby('Gender')\n",
        "stratified_sample = pd.DataFrame()\n",
        "\n",
        "for _, group in strata:\n",
        "    stratified_sample = stratified_sample.append(group.sample(n=stratified_sample_size, random_state=42))\n",
        "\n",
        "# Display Stratified Sampling Result\n",
        "print(\"\\nStratified Sampling Result:\")\n",
        "print(stratified_sample[['ID', 'Gender', 'Income']])\n"
      ],
      "metadata": {
        "id": "EP1Q11aJ7Iiw"
      },
      "execution_count": null,
      "outputs": []
    },
    {
      "cell_type": "code",
      "source": [
        "#5. Write a Python function to calculate the range of a dataset.\n",
        "def calculate_range(data):\n",
        "    return max(data) - min(data)\n",
        "\n",
        "# Example usage\n",
        "data = [2, 4, 6, 8, 10]\n",
        "range_value = calculate_range(data)\n",
        "print(\"Range:\", range_value)\n"
      ],
      "metadata": {
        "colab": {
          "base_uri": "https://localhost:8080/"
        },
        "id": "Ew4JKhFA7WBC",
        "outputId": "2f8870e8-d3b1-452f-904d-908396b29845"
      },
      "execution_count": 6,
      "outputs": [
        {
          "output_type": "stream",
          "name": "stdout",
          "text": [
            "Range: 8\n"
          ]
        }
      ]
    },
    {
      "cell_type": "code",
      "source": [
        "#6. Create a dataset and plot its histogram to visualize skewness.\n",
        "\n",
        "import matplotlib.pyplot as plt\n",
        "import numpy as np\n",
        "\n",
        "# Create a sample dataset with skewed distribution (right-skewed)\n",
        "data = np.random.exponential(scale=2, size=1000)\n",
        "\n",
        "# Plot histogram\n",
        "plt.hist(data, bins=30, edgecolor='black')\n",
        "plt.title('Histogram of Skewed Data')\n",
        "plt.xlabel('Value')\n",
        "plt.ylabel('Frequency')\n",
        "plt.show()\n"
      ],
      "metadata": {
        "colab": {
          "base_uri": "https://localhost:8080/",
          "height": 472
        },
        "id": "unWgG2fz7dff",
        "outputId": "2bebfa39-f9a7-4d91-c2ef-faff7fbf45a0"
      },
      "execution_count": 7,
      "outputs": [
        {
          "output_type": "display_data",
          "data": {
            "text/plain": [
              "<Figure size 640x480 with 1 Axes>"
            ],
            "image/png": "[encoded data removed]"
          },
          "metadata": {}
        }
      ]
    },
    {
      "cell_type": "code",
      "source": [
        "#7. Calculate skewness and kurtosis of a dataset using Python libraries.\n",
        "\n",
        "import numpy as np\n",
        "import pandas as pd\n",
        "from scipy.stats import skew, kurtosis\n",
        "\n",
        "# Create a sample dataset\n",
        "data = np.random.exponential(scale=2, size=1000)\n",
        "\n",
        "# Calculate skewness\n",
        "data_skewness = skew(data)\n",
        "\n",
        "# Calculate kurtosis\n",
        "data_kurtosis = kurtosis(data)\n",
        "\n",
        "# Output the results\n",
        "print(\"Skewness:\", data_skewness)\n",
        "print(\"Kurtosis:\", data_kurtosis)\n"
      ],
      "metadata": {
        "colab": {
          "base_uri": "https://localhost:8080/"
        },
        "id": "km3wgfWf7kSC",
        "outputId": "f6fa7e84-808b-40e6-cb54-e1d395dcfae2"
      },
      "execution_count": 8,
      "outputs": [
        {
          "output_type": "stream",
          "name": "stdout",
          "text": [
            "Skewness: 2.1610231259822332\n",
            "Kurtosis: 6.910939547396758\n"
          ]
        }
      ]
    },
    {
      "cell_type": "code",
      "source": [
        "#8. Generate a dataset and demonstrate positive and negative skewness.\n",
        "import numpy as np\n",
        "import matplotlib.pyplot as plt\n",
        "from scipy.stats import skew\n",
        "\n",
        "# Generate a positively skewed dataset (right-skewed)\n",
        "positive_skew_data = np.random.exponential(scale=2, size=1000)\n",
        "\n",
        "# Generate a negatively skewed dataset (left-skewed)\n",
        "negative_skew_data = -np.random.exponential(scale=2, size=1000)\n",
        "\n",
        "# Plot histograms to visualize the skewness\n",
        "fig, axes = plt.subplots(1, 2, figsize=(14, 6))\n",
        "\n",
        "# Positive skew\n",
        "axes[0].hist(positive_skew_data, bins=30, color='skyblue', edgecolor='black')\n",
        "axes[0].set_title('Positive Skewness')\n",
        "axes[0].set_xlabel('Value')\n",
        "axes[0].set_ylabel('Frequency')\n",
        "\n",
        "# Negative skew\n",
        "axes[1].hist(negative_skew_data, bins=30, color='salmon', edgecolor='black')\n",
        "axes[1].set_title('Negative Skewness')\n",
        "axes[1].set_xlabel('Value')\n",
        "axes[1].set_ylabel('Frequency')\n",
        "\n",
        "plt.tight_layout()\n",
        "plt.show()\n",
        "\n",
        "# Calculate skewness for both datasets\n",
        "positive_skew_value = skew(positive_skew_data)\n",
        "negative_skew_value = skew(negative_skew_data)\n",
        "\n",
        "# Output skewness values\n",
        "print(f\"Positive Skewness: {positive_skew_value}\")\n",
        "print(f\"Negative Skewness: {negative_skew_value}\")\n"
      ],
      "metadata": {
        "colab": {
          "base_uri": "https://localhost:8080/",
          "height": 642
        },
        "id": "zp2thpFh7rBa",
        "outputId": "e5e7401d-9168-4046-bf37-755d826e26ca"
      },
      "execution_count": 9,
      "outputs": [
        {
          "output_type": "display_data",
          "data": {
            "text/plain": [
              "<Figure size 1400x600 with 2 Axes>"
            ],
            "image/png": "[encoded data removed]"
          },
          "metadata": {}
        },
        {
          "output_type": "stream",
          "name": "stdout",
          "text": [
            "Positive Skewness: 1.8462679319856574\n",
            "Negative Skewness: -1.6199485932514022\n"
          ]
        }
      ]
    },
    {
      "cell_type": "code",
      "source": [
        "#9. Write a Python script to calculate covariance between two datasets.\n",
        "\n",
        "import numpy as np\n",
        "\n",
        "# Create two sample datasets\n",
        "data_x = np.array([2, 4, 6, 8, 10])\n",
        "data_y = np.array([1, 3, 5, 7, 9])\n",
        "\n",
        "# Calculate the covariance between the two datasets\n",
        "covariance = np.cov(data_x, data_y)[0][1]\n",
        "\n",
        "# Output the result\n",
        "print(\"Covariance between data_x and data_y:\", covariance)\n"
      ],
      "metadata": {
        "colab": {
          "base_uri": "https://localhost:8080/"
        },
        "id": "7IYoVVK573dG",
        "outputId": "6f4da405-c614-4628-b9f8-f43285125c39"
      },
      "execution_count": 10,
      "outputs": [
        {
          "output_type": "stream",
          "name": "stdout",
          "text": [
            "Covariance between data_x and data_y: 10.0\n"
          ]
        }
      ]
    },
    {
      "cell_type": "code",
      "source": [
        "#10. Write a Python script to calculate the correlation coefficient between two datasets.\n",
        "import numpy as np\n",
        "\n",
        "# Create two sample datasets\n",
        "data_x = np.array([2, 4, 6, 8, 10])\n",
        "data_y = np.array([1, 3, 5, 7, 9])\n",
        "\n",
        "# Calculate the correlation coefficient between the two datasets\n",
        "correlation_coefficient = np.corrcoef(data_x, data_y)[0][1]\n",
        "\n",
        "# Output the result\n",
        "print(\"Correlation Coefficient between data_x and data_y:\", correlation_coefficient)\n"
      ],
      "metadata": {
        "colab": {
          "base_uri": "https://localhost:8080/"
        },
        "id": "G9mDribK7_xI",
        "outputId": "098b292a-4298-42b2-ada5-abffd90a7666"
      },
      "execution_count": 12,
      "outputs": [
        {
          "output_type": "stream",
          "name": "stdout",
          "text": [
            "Correlation Coefficient between data_x and data_y: 0.9999999999999999\n"
          ]
        }
      ]
    },
    {
      "cell_type": "code",
      "source": [
        "#11. Create a scatter plot to visualize the relationship between two variables.\n",
        "import numpy as np\n",
        "import matplotlib.pyplot as plt\n",
        "\n",
        "# Create two sample datasets\n",
        "data_x = np.array([2, 4, 6, 8, 10])\n",
        "data_y = np.array([1, 3, 5, 7, 9])\n",
        "\n",
        "# Create a scatter plot to visualize the relationship between the two variables\n",
        "plt.scatter(data_x, data_y, color='blue', edgecolor='black')\n",
        "\n",
        "# Adding titles and labels\n",
        "plt.title('Scatter Plot: Relationship between data_x and data_y')\n",
        "plt.xlabel('data_x')\n",
        "plt.ylabel('data_y')\n",
        "\n",
        "# Display the plot\n",
        "plt.show()\n"
      ],
      "metadata": {
        "colab": {
          "base_uri": "https://localhost:8080/",
          "height": 472
        },
        "id": "-4Yxh37i8MuB",
        "outputId": "9882618e-78e9-434c-9788-88d827978a39"
      },
      "execution_count": 13,
      "outputs": [
        {
          "output_type": "display_data",
          "data": {
            "text/plain": [
              "<Figure size 640x480 with 1 Axes>"
            ],
            "image/png": "[encoded data removed]"
          },
          "metadata": {}
        }
      ]
    },
    {
      "cell_type": "code",
      "source": [
        "#12. Implement and compare simple random sampling and systematic sampling.\n",
        "import numpy as np\n",
        "import random\n",
        "import matplotlib.pyplot as plt\n",
        "\n",
        "# Create a sample dataset (for example, a list of numbers 1 to 100)\n",
        "population = list(range(1, 101))\n",
        "\n",
        "# -----------------------------\n",
        "# 1. Simple Random Sampling\n",
        "sample_size = 10\n",
        "random_sample = random.sample(population, sample_size)\n",
        "\n",
        "# -----------------------------\n",
        "# 2. Systematic Sampling\n",
        "k = len(population) // sample_size  # sampling interval\n",
        "systematic_sample = population[::k][:sample_size]\n",
        "\n",
        "# -----------------------------\n",
        "# Print the results\n",
        "print(\"Simple Random Sample:\", random_sample)\n",
        "print(\"Systematic Sample:\", systematic_sample)\n",
        "\n",
        "# -----------------------------\n",
        "# Visualization: Plot the population and the samples\n",
        "plt.figure(figsize=(10, 6))\n",
        "\n",
        "# Plot the population\n",
        "plt.scatter(population, [1]*len(population), color='gray', label='Population', alpha=0.5)\n",
        "\n",
        "# Plot Simple Random Sample\n",
        "plt.scatter(random_sample, [1]*len(random_sample), color='blue', label='Random Sample', s=100)\n",
        "\n",
        "# Plot Systematic Sample\n",
        "plt.scatter(systematic_sample, [1]*len(systematic_sample), color='red', label='Systematic Sample', s=100)\n",
        "\n",
        "# Labels and Title\n",
        "plt.title(\"Comparison of Simple Random Sampling and Systematic Sampling\")\n",
        "plt.yticks([])\n",
        "plt.xlabel(\"Data Points\")\n",
        "plt.legend()\n",
        "\n",
        "# Show plot\n",
        "plt.show()\n"
      ],
      "metadata": {
        "colab": {
          "base_uri": "https://localhost:8080/",
          "height": 599
        },
        "id": "7yTHX6wQ8V7r",
        "outputId": "a455174c-d67e-4276-d59b-4cd6a47a881b"
      },
      "execution_count": 14,
      "outputs": [
        {
          "output_type": "stream",
          "name": "stdout",
          "text": [
            "Simple Random Sample: [68, 27, 25, 46, 98, 18, 30, 73, 91, 66]\n",
            "Systematic Sample: [1, 11, 21, 31, 41, 51, 61, 71, 81, 91]\n"
          ]
        },
        {
          "output_type": "display_data",
          "data": {
            "text/plain": [
              "<Figure size 1000x600 with 1 Axes>"
            ],
            "image/png": "[encoded data removed]"
          },
          "metadata": {}
        }
      ]
    },
    {
      "cell_type": "code",
      "source": [
        "#13. Calculate the mean, median, and mode of grouped data.\n",
        "import numpy as np\n",
        "\n",
        "# Example of grouped data\n",
        "class_intervals = [(0, 10), (10, 20), (20, 30), (30, 40), (40, 50)]\n",
        "frequencies = [5, 10, 15, 10, 5]\n",
        "\n",
        "# Step 1: Calculate the midpoints (x_i) for each class interval\n",
        "midpoints = [(start + end) / 2 for start, end in class_intervals]\n",
        "\n",
        "# Step 2: Calculate the mean\n",
        "mean = sum(f * x for f, x in zip(frequencies, midpoints)) / sum(frequencies)\n",
        "\n",
        "# Step 3: Calculate the cumulative frequencies\n",
        "cumulative_frequencies = np.cumsum(frequencies)\n",
        "\n",
        "# Step 4: Find the median class (if n/2 is in the cumulative frequency range)\n",
        "n = sum(frequencies)\n",
        "median_class_index = np.searchsorted(cumulative_frequencies, n / 2)\n",
        "\n",
        "# Median formula: L + ((n/2 - F) / f_m) * h\n",
        "L = class_intervals[median_class_index][0]\n",
        "F = cumulative_frequencies[median_class_index - 1] if median_class_index > 0 else 0\n",
        "f_m = frequencies[median_class_index]\n",
        "h = class_intervals[0][1] - class_intervals[0][0]  # Class width\n",
        "\n",
        "median = L + ((n / 2 - F) / f_m) * h\n",
        "\n",
        "# Step 5: Calculate the mode (modal class is the class with the highest frequency)\n",
        "mode_class_index = np.argmax(frequencies)\n",
        "f_1 = frequencies[mode_class_index]\n",
        "f_0 = frequencies[mode_class_index - 1] if mode_class_index > 0 else 0\n",
        "f_2 = frequencies[mode_class_index + 1] if mode_class_index < len(frequencies) - 1 else 0\n",
        "L_mode = class_intervals[mode_class_index][0]\n",
        "mode = L_mode + ((f_1 - f_0) / (2 * f_1 - f_0 - f_2)) * h\n",
        "\n",
        "# Output results\n",
        "print(f\"Mean: {mean}\")\n",
        "print(f\"Median: {median}\")\n",
        "print(f\"Mode: {mode}\")\n"
      ],
      "metadata": {
        "colab": {
          "base_uri": "https://localhost:8080/"
        },
        "id": "Q-TUAd208jYc",
        "outputId": "3ca882c3-5580-4c5f-c440-3bc99a87e2f6"
      },
      "execution_count": 15,
      "outputs": [
        {
          "output_type": "stream",
          "name": "stdout",
          "text": [
            "Mean: 25.0\n",
            "Median: 25.0\n",
            "Mode: 25.0\n"
          ]
        }
      ]
    },
    {
      "cell_type": "code",
      "source": [
        "#14. Simulate data using Python and calculate its central tendency and dispersion.\n",
        "import numpy as np\n",
        "import pandas as pd\n",
        "\n",
        "# Simulate data (e.g., normal distribution)\n",
        "data = np.random.normal(loc=50, scale=10, size=1000)  # mean=50, std=10, sample size=1000\n",
        "\n",
        "# Calculate central tendency\n",
        "mean = np.mean(data)\n",
        "median = np.median(data)\n",
        "mode = pd.Series(data).mode()[0]  # Using pandas to find mode\n",
        "\n",
        "# Calculate dispersion\n",
        "variance = np.var(data)\n",
        "std_dev = np.std(data)\n",
        "range_value = np.ptp(data)  # Range: max - min\n",
        "\n",
        "# Output results\n",
        "print(f\"Mean: {mean}\")\n",
        "print(f\"Median: {median}\")\n",
        "print(f\"Mode: {mode}\")\n",
        "print(f\"Variance: {variance}\")\n",
        "print(f\"Standard Deviation: {std_dev}\")\n",
        "print(f\"Range: {range_value}\")\n"
      ],
      "metadata": {
        "colab": {
          "base_uri": "https://localhost:8080/"
        },
        "id": "yV59uUfK83Df",
        "outputId": "7d8ebe76-7360-470a-8eb2-ac923c43788c"
      },
      "execution_count": 16,
      "outputs": [
        {
          "output_type": "stream",
          "name": "stdout",
          "text": [
            "Mean: 50.50047472016396\n",
            "Median: 50.724471136809754\n",
            "Mode: 15.910009578127486\n",
            "Variance: 105.66329661147722\n",
            "Standard Deviation: 10.279265373142053\n",
            "Range: 63.41619947066981\n"
          ]
        }
      ]
    },
    {
      "cell_type": "code",
      "source": [
        "#15. Use NumPy or pandas to summarize a dataset’s descriptive statistics.\n",
        "import numpy as np\n",
        "import pandas as pd\n",
        "\n",
        "# Simulate a dataset\n",
        "data = np.random.normal(loc=50, scale=10, size=1000)  # mean=50, std=10, sample size=1000\n",
        "\n",
        "# Using pandas to create a DataFrame\n",
        "df = pd.DataFrame(data, columns=['Data'])\n",
        "\n",
        "# Summary of descriptive statistics using pandas\n",
        "descriptive_stats = df.describe()\n",
        "\n",
        "# Output the summary\n",
        "print(descriptive_stats)\n"
      ],
      "metadata": {
        "colab": {
          "base_uri": "https://localhost:8080/"
        },
        "id": "MuIh0cXs8_OU",
        "outputId": "7f003ae6-2b23-424e-eae5-6c5ea029a670"
      },
      "execution_count": 17,
      "outputs": [
        {
          "output_type": "stream",
          "name": "stdout",
          "text": [
            "              Data\n",
            "count  1000.000000\n",
            "mean     50.014918\n",
            "std      10.297948\n",
            "min      16.548796\n",
            "25%      43.369250\n",
            "50%      50.002561\n",
            "75%      56.622462\n",
            "max      80.414668\n"
          ]
        }
      ]
    },
    {
      "cell_type": "code",
      "source": [
        "#16. Plot a boxplot to understand the spread and identify outliers.\n",
        "import numpy as np\n",
        "import matplotlib.pyplot as plt\n",
        "import seaborn as sns\n",
        "\n",
        "# Simulate a dataset\n",
        "data = np.random.normal(loc=50, scale=10, size=1000)  # mean=50, std=10, sample size=1000\n",
        "\n",
        "# Create a boxplot using seaborn\n",
        "sns.boxplot(data=data)\n",
        "\n",
        "# Adding title and labels\n",
        "plt.title('Boxplot of Simulated Data')\n",
        "plt.xlabel('Data')\n",
        "\n",
        "# Display the plot\n",
        "plt.show()\n"
      ],
      "metadata": {
        "colab": {
          "base_uri": "https://localhost:8080/",
          "height": 458
        },
        "id": "XhX6RD-R9F0C",
        "outputId": "2707b57d-3cad-433b-ef3e-5a3599d24347"
      },
      "execution_count": 18,
      "outputs": [
        {
          "output_type": "display_data",
          "data": {
            "text/plain": [
              "<Figure size 640x480 with 1 Axes>"
            ],
            "image/png": "[encoded data removed]"
          },
          "metadata": {}
        }
      ]
    },
    {
      "cell_type": "code",
      "source": [
        "#17. Calculate the interquartile range (IQR) of a dataset.\n",
        "import numpy as np\n",
        "\n",
        "# Simulate a dataset\n",
        "data = np.random.normal(loc=50, scale=10, size=1000)  # mean=50, std=10, sample size=1000\n",
        "\n",
        "# Calculate the first quartile (Q1) and third quartile (Q3)\n",
        "Q1 = np.percentile(data, 25)\n",
        "Q3 = np.percentile(data, 75)\n",
        "\n",
        "# Calculate the interquartile range (IQR)\n",
        "IQR = Q3 - Q1\n",
        "\n",
        "# Output the result\n",
        "print(f\"Interquartile Range (IQR): {IQR}\")\n"
      ],
      "metadata": {
        "colab": {
          "base_uri": "https://localhost:8080/"
        },
        "id": "3L2IseNx9N7o",
        "outputId": "014c0936-5d5c-469a-9e75-58678c0ece3e"
      },
      "execution_count": 19,
      "outputs": [
        {
          "output_type": "stream",
          "name": "stdout",
          "text": [
            "Interquartile Range (IQR): 13.848262665367983\n"
          ]
        }
      ]
    },
    {
      "cell_type": "code",
      "source": [
        "#18. Implement Z-score normalization and explain its significance.\n",
        "import numpy as np\n",
        "\n",
        "# Simulate a dataset\n",
        "data = np.random.normal(loc=50, scale=10, size=1000)  # mean=50, std=10, sample size=1000\n",
        "\n",
        "# Calculate the mean and standard deviation of the data\n",
        "mean = np.mean(data)\n",
        "std_dev = np.std(data)\n",
        "\n",
        "# Perform Z-score normalization\n",
        "z_scores = (data - mean) / std_dev\n",
        "\n",
        "# Output the first 10 normalized values\n",
        "print(z_scores[:10])\n"
      ],
      "metadata": {
        "colab": {
          "base_uri": "https://localhost:8080/"
        },
        "id": "UBvxNdTi9XJ7",
        "outputId": "e68c9ba1-4064-4c0c-bcba-5ab61804bdc8"
      },
      "execution_count": 20,
      "outputs": [
        {
          "output_type": "stream",
          "name": "stdout",
          "text": [
            "[ 0.87726235 -0.17770738  0.34921606  1.97445924  1.72934255 -0.53010526\n",
            " -1.207646    1.27622091  0.87315609 -1.4985158 ]\n"
          ]
        }
      ]
    },
    {
      "cell_type": "code",
      "source": [
        "#19. Compare two datasets using their standard deviations.\n",
        "import numpy as np\n",
        "\n",
        "# Simulate two datasets\n",
        "data1 = np.random.normal(loc=50, scale=10, size=1000)  # mean=50, std=10, sample size=1000\n",
        "data2 = np.random.normal(loc=50, scale=20, size=1000)  # mean=50, std=20, sample size=1000\n",
        "\n",
        "# Calculate the standard deviations\n",
        "std_dev_data1 = np.std(data1)\n",
        "std_dev_data2 = np.std(data2)\n",
        "\n",
        "# Compare the standard deviations\n",
        "print(f\"Standard Deviation of Data1: {std_dev_data1}\")\n",
        "print(f\"Standard Deviation of Data2: {std_dev_data2}\")\n",
        "\n",
        "# Interpretation based on comparison\n",
        "if std_dev_data1 > std_dev_data2:\n",
        "    print(\"Data1 has higher variability than Data2.\")\n",
        "else:\n",
        "    print(\"Data2 has higher variability than Data1.\")\n"
      ],
      "metadata": {
        "colab": {
          "base_uri": "https://localhost:8080/"
        },
        "id": "M2MAlPNT9jEl",
        "outputId": "893efb36-3365-4f4f-fcc4-c2e6c93ff543"
      },
      "execution_count": 21,
      "outputs": [
        {
          "output_type": "stream",
          "name": "stdout",
          "text": [
            "Standard Deviation of Data1: 9.588713745245858\n",
            "Standard Deviation of Data2: 19.847945220726125\n",
            "Data2 has higher variability than Data1.\n"
          ]
        }
      ]
    },
    {
      "cell_type": "code",
      "source": [
        "#20. Write a Python program to visualize covariance using a heatmap.\n",
        "import numpy as np\n",
        "import seaborn as sns\n",
        "import matplotlib.pyplot as plt\n",
        "import pandas as pd\n",
        "\n",
        "# Simulate two datasets\n",
        "data1 = np.random.normal(loc=50, scale=10, size=1000)\n",
        "data2 = np.random.normal(loc=60, scale=15, size=1000)\n",
        "\n",
        "# Create a DataFrame\n",
        "df = pd.DataFrame({'Data1': data1, 'Data2': data2})\n",
        "\n",
        "# Calculate the covariance matrix\n",
        "cov_matrix = df.cov()\n",
        "\n",
        "# Visualize the covariance matrix using a heatmap\n",
        "plt.figure(figsize=(6, 4))\n",
        "sns.heatmap(cov_matrix, annot=True, cmap='coolwarm', fmt='.2f', linewidths=0.5)\n",
        "\n",
        "# Add titles and labels\n",
        "plt.title('Covariance Matrix Heatmap')\n",
        "plt.show()\n"
      ],
      "metadata": {
        "colab": {
          "base_uri": "https://localhost:8080/",
          "height": 391
        },
        "id": "1EqeNZPk9rMF",
        "outputId": "ec00e3ad-fefd-47b9-84c7-77e8542c7604"
      },
      "execution_count": 22,
      "outputs": [
        {
          "output_type": "display_data",
          "data": {
            "text/plain": [
              "<Figure size 600x400 with 2 Axes>"
            ],
            "image/png": "[encoded data removed]"
          },
          "metadata": {}
        }
      ]
    },
    {
      "cell_type": "code",
      "source": [
        "#21. Use seaborn to create a correlation matrix for a dataset.\n",
        "import numpy as np\n",
        "import seaborn as sns\n",
        "import matplotlib.pyplot as plt\n",
        "import pandas as pd\n",
        "\n",
        "# Simulate a dataset\n",
        "data = np.random.normal(loc=50, scale=10, size=(1000, 4))  # 1000 samples, 4 features\n",
        "\n",
        "# Create a DataFrame\n",
        "df = pd.DataFrame(data, columns=['Feature1', 'Feature2', 'Feature3', 'Feature4'])\n",
        "\n",
        "# Calculate the correlation matrix\n",
        "correlation_matrix = df.corr()\n",
        "\n",
        "# Create a heatmap to visualize the correlation matrix\n",
        "plt.figure(figsize=(8, 6))\n",
        "sns.heatmap(correlation_matrix, annot=True, cmap='coolwarm', fmt='.2f', linewidths=0.5)\n",
        "\n",
        "# Add title and labels\n",
        "plt.title('Correlation Matrix Heatmap')\n",
        "plt.show()\n"
      ],
      "metadata": {
        "colab": {
          "base_uri": "https://localhost:8080/",
          "height": 545
        },
        "id": "a9yyBnOa9zux",
        "outputId": "6d5c8bb1-49a0-4039-e385-5dbc26199fb8"
      },
      "execution_count": 23,
      "outputs": [
        {
          "output_type": "display_data",
          "data": {
            "text/plain": [
              "<Figure size 800x600 with 2 Axes>"
            ],
            "image/png": "[encoded data removed]"
          },
          "metadata": {}
        }
      ]
    },
    {
      "cell_type": "code",
      "source": [
        "#22. Generate a dataset and implement both variance and standard deviation computations.\n",
        "import numpy as np\n",
        "\n",
        "# Generate a dataset\n",
        "data = np.random.normal(loc=50, scale=10, size=1000)  # mean=50, std=10, sample size=1000\n",
        "\n",
        "# Calculate variance\n",
        "variance = np.var(data)\n",
        "\n",
        "# Calculate standard deviation\n",
        "std_dev = np.std(data)\n",
        "\n",
        "# Output the results\n",
        "print(f\"Variance: {variance}\")\n",
        "print(f\"Standard Deviation: {std_dev}\")\n"
      ],
      "metadata": {
        "colab": {
          "base_uri": "https://localhost:8080/"
        },
        "id": "EUBVCpyJ-CNn",
        "outputId": "8348761d-f21d-40ee-d507-b00f631329b6"
      },
      "execution_count": 24,
      "outputs": [
        {
          "output_type": "stream",
          "name": "stdout",
          "text": [
            "Variance: 100.7692804819378\n",
            "Standard Deviation: 10.03839033321268\n"
          ]
        }
      ]
    },
    {
      "cell_type": "code",
      "source": [
        "#23. Visualize skewness and kurtosis using Python libraries like matplotlib or seaborn.\n",
        "import numpy as np\n",
        "import seaborn as sns\n",
        "import matplotlib.pyplot as plt\n",
        "from scipy.stats import skew, kurtosis\n",
        "\n",
        "# Generate a skewed dataset (right-skewed)\n",
        "data_skewed = np.random.exponential(scale=2, size=1000)\n",
        "\n",
        "# Calculate skewness and kurtosis\n",
        "data_skewness = skew(data_skewed)\n",
        "data_kurtosis = kurtosis(data_skewed)\n",
        "\n",
        "# Visualize the data distribution\n",
        "plt.figure(figsize=(12, 6))\n",
        "\n",
        "# Plot histogram\n",
        "plt.subplot(1, 2, 1)\n",
        "sns.histplot(data_skewed, kde=True, color='skyblue')\n",
        "plt.title(f\"Histogram (Skewness = {data_skewness:.2f}, Kurtosis = {data_kurtosis:.2f})\")\n",
        "\n",
        "# Plot Q-Q plot for skewness and kurtosis visualization\n",
        "plt.subplot(1, 2, 2)\n",
        "sns.qqplot(data_skewed, line='45', color='red')\n",
        "plt.title('Q-Q Plot')\n",
        "\n",
        "# Show the plot\n",
        "plt.tight_layout()\n",
        "plt.show()\n"
      ],
      "metadata": {
        "id": "oYrhvNsM-U-y"
      },
      "execution_count": null,
      "outputs": []
    },
    {
      "cell_type": "code",
      "source": [
        "#24. Implement the Pearson and Spearman correlation coefficients for a dataset.\n",
        "import numpy as np\n",
        "import scipy.stats as stats\n",
        "\n",
        "# Generate two datasets (example)\n",
        "data_x = np.random.normal(loc=50, scale=10, size=1000)\n",
        "data_y = 0.5 * data_x + np.random.normal(loc=0, scale=5, size=1000)  # Correlated data\n",
        "\n",
        "# Calculate Pearson correlation coefficient\n",
        "pearson_corr, _ = stats.pearsonr(data_x, data_y)\n",
        "\n",
        "# Calculate Spearman correlation coefficient\n",
        "spearman_corr, _ = stats.spearmanr(data_x, data_y)\n",
        "\n",
        "# Output the results\n",
        "print(f\"Pearson Correlation Coefficient: {pearson_corr}\")\n",
        "print(f\"Spearman Correlation Coefficient: {spearman_corr}\")\n"
      ],
      "metadata": {
        "colab": {
          "base_uri": "https://localhost:8080/"
        },
        "id": "zqjIafCF-hR6",
        "outputId": "8f180518-ea0e-4c30-c7a9-35e2de4016d8"
      },
      "execution_count": 26,
      "outputs": [
        {
          "output_type": "stream",
          "name": "stdout",
          "text": [
            "Pearson Correlation Coefficient: 0.690077680555788\n",
            "Spearman Correlation Coefficient: 0.6783244623244623\n"
          ]
        }
      ]
    }
  ]
}